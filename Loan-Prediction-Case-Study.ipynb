{
  "nbformat": 4,
  "nbformat_minor": 0,
  "metadata": {
    "colab": {
      "name": "RR_Loan_Prediction_Case_Study.ipynb",
      "provenance": [],
      "collapsed_sections": [
        "gdQGVA8OH1hj",
        "gqv3HvBcJUj8",
        "8TcJ00GzO_4U",
        "EE_RzW1pTHqq",
        "26WDd6BEhJfw",
        "9-JRZLP5wRLs",
        "bJHFYEORH1lg",
        "j2WD4KbpH1lu",
        "E1x1VZBuH1l7",
        "bjMyvKgh8CGv"
      ]
    },
    "kernelspec": {
      "display_name": "defaultvenv",
      "language": "python",
      "name": "defaultvenv"
    },
    "language_info": {
      "codemirror_mode": {
        "name": "ipython",
        "version": 3
      },
      "file_extension": ".py",
      "mimetype": "text/x-python",
      "name": "python",
      "nbconvert_exporter": "python",
      "pygments_lexer": "ipython3",
      "version": "3.8.2"
    }
  },
  "cells": [
    {
      "cell_type": "markdown",
      "metadata": {
        "id": "ymmGx-Mj-J3S"
      },
      "source": [
        "# **Loan-Prediction Case Study**\n"
      ]
    },
    {
      "cell_type": "markdown",
      "metadata": {
        "id": "gdQGVA8OH1hj"
      },
      "source": [
        "## **Importing necessary packages and data**"
      ]
    },
    {
      "cell_type": "markdown",
      "metadata": {
        "id": "oxjm9Wfg-H9G"
      },
      "source": [
        "Importing neccessary Packages"
      ]
    },
    {
      "cell_type": "code",
      "metadata": {
        "id": "cnUKNUykY8qq",
        "outputId": "e87e6a7d-2e38-43ca-e16b-f50e53e7a9c3",
        "colab": {
          "base_uri": "https://localhost:8080/",
          "height": 367
        }
      },
      "source": [
        "# Packages used\n",
        "# !pip install numpy==1.19.0 pandas==1.1.0 scikit-learn==0.23.2 seaborn==0.10.1 yellowbrick==1.1 category_encoders==2.2.2  xgboost==1.2.0"
      ],
      "execution_count": 1,
      "outputs": [
        {
          "output_type": "stream",
          "text": [
            "Requirement already satisfied: numpy==1.19.0 in /usr/local/lib/python3.6/dist-packages (1.19.0)\n",
            "Requirement already satisfied: pandas==1.1.0 in /usr/local/lib/python3.6/dist-packages (1.1.0)\n",
            "Requirement already satisfied: scikit-learn==0.23.2 in /usr/local/lib/python3.6/dist-packages (0.23.2)\n",
            "Requirement already satisfied: seaborn==0.10.1 in /usr/local/lib/python3.6/dist-packages (0.10.1)\n",
            "Requirement already satisfied: yellowbrick==1.1 in /usr/local/lib/python3.6/dist-packages (1.1)\n",
            "Requirement already satisfied: category_encoders==2.2.2 in /usr/local/lib/python3.6/dist-packages (2.2.2)\n",
            "Requirement already satisfied: xgboost==1.2.0 in /usr/local/lib/python3.6/dist-packages (1.2.0)\n",
            "Requirement already satisfied: python-dateutil>=2.7.3 in /usr/local/lib/python3.6/dist-packages (from pandas==1.1.0) (2.8.1)\n",
            "Requirement already satisfied: pytz>=2017.2 in /usr/local/lib/python3.6/dist-packages (from pandas==1.1.0) (2018.9)\n",
            "Requirement already satisfied: scipy>=0.19.1 in /usr/local/lib/python3.6/dist-packages (from scikit-learn==0.23.2) (1.4.1)\n",
            "Requirement already satisfied: threadpoolctl>=2.0.0 in /usr/local/lib/python3.6/dist-packages (from scikit-learn==0.23.2) (2.1.0)\n",
            "Requirement already satisfied: joblib>=0.11 in /usr/local/lib/python3.6/dist-packages (from scikit-learn==0.23.2) (0.16.0)\n",
            "Requirement already satisfied: matplotlib>=2.1.2 in /usr/local/lib/python3.6/dist-packages (from seaborn==0.10.1) (3.2.2)\n",
            "Requirement already satisfied: cycler>=0.10.0 in /usr/local/lib/python3.6/dist-packages (from yellowbrick==1.1) (0.10.0)\n",
            "Requirement already satisfied: statsmodels>=0.9.0 in /usr/local/lib/python3.6/dist-packages (from category_encoders==2.2.2) (0.10.2)\n",
            "Requirement already satisfied: patsy>=0.5.1 in /usr/local/lib/python3.6/dist-packages (from category_encoders==2.2.2) (0.5.1)\n",
            "Requirement already satisfied: six>=1.5 in /usr/local/lib/python3.6/dist-packages (from python-dateutil>=2.7.3->pandas==1.1.0) (1.15.0)\n",
            "Requirement already satisfied: pyparsing!=2.0.4,!=2.1.2,!=2.1.6,>=2.0.1 in /usr/local/lib/python3.6/dist-packages (from matplotlib>=2.1.2->seaborn==0.10.1) (2.4.7)\n",
            "Requirement already satisfied: kiwisolver>=1.0.1 in /usr/local/lib/python3.6/dist-packages (from matplotlib>=2.1.2->seaborn==0.10.1) (1.2.0)\n"
          ],
          "name": "stdout"
        }
      ]
    },
    {
      "cell_type": "code",
      "metadata": {
        "id": "NWto3Hxt8h5S"
      },
      "source": [
        "import warnings                                                     # To ignore any warnings\n",
        "warnings.filterwarnings(\"ignore\")\n",
        "\n",
        "import numpy as np                                                  # To perform numerical operations on vectors/arrays.\n",
        "import pandas as pd                                                 # To store and manupulate dataset\n",
        "import matplotlib.pyplot as plt                                     # To visualize data\n",
        "import seaborn as sns                                               # To visualize data\n",
        "from yellowbrick.target import FeatureCorrelation                   # To plot correlation bar chart\n",
        "from sklearn.model_selection import train_test_split                # To split data to train and test set\n",
        "from sklearn.preprocessing import  OrdinalEncoder                   # To encode data\n",
        "from category_encoders import TargetEncoder                         # To encode data\n",
        "from sklearn.impute import SimpleImputer                            # To impute data\n",
        "from sklearn.pipeline import Pipeline                               # To build preprocessing and prediction pipeline\n",
        "from sklearn.compose import ColumnTransformer                       # To apply different tranformation on different columns parallely\n",
        "from sklearn.base import BaseEstimator, TransformerMixin            # For creating custom estimator\n",
        "from sklearn.linear_model import LogisticRegression\n",
        "from sklearn.tree import DecisionTreeClassifier\n",
        "from sklearn.ensemble import RandomForestClassifier\n",
        "from xgboost import XGBClassifier\n",
        "from sklearn.neural_network import MLPClassifier\n",
        "from sklearn.neighbors import KNeighborsClassifier\n",
        "from sklearn.naive_bayes import GaussianNB\n",
        "from sklearn.svm import SVC\n",
        "from sklearn.metrics import accuracy_score                          # Evalution metric that we will be using\n",
        "from sklearn.model_selection import GridSearchCV, cross_val_score   # To select a descent model\n",
        "\n",
        "from string import ascii_uppercase                                  # To get alphabetical labels\n",
        "\n",
        "np.random.seed(42)                                                  # To have same random values on each run.\n",
        "%matplotlib inline"
      ],
      "execution_count": 2,
      "outputs": []
    },
    {
      "cell_type": "markdown",
      "metadata": {
        "id": "QYm1lvUY-7G7"
      },
      "source": [
        "**Reading the train data**"
      ]
    },
    {
      "cell_type": "code",
      "metadata": {
        "id": "OhPQmjgtAWef",
        "outputId": "a4d9d7a7-cdc6-4c67-fc41-78a2c03da37f",
        "colab": {
          "base_uri": "https://localhost:8080/",
          "height": 400
        }
      },
      "source": [
        "data = pd.read_csv('https://raw.githubusercontent.com/rahul96rajan/sample_datasets/master/loan_status.csv')\n",
        "data.sample(10)"
      ],
      "execution_count": 3,
      "outputs": [
        {
          "output_type": "execute_result",
          "data": {
            "text/html": [
              "<div>\n",
              "<style scoped>\n",
              "    .dataframe tbody tr th:only-of-type {\n",
              "        vertical-align: middle;\n",
              "    }\n",
              "\n",
              "    .dataframe tbody tr th {\n",
              "        vertical-align: top;\n",
              "    }\n",
              "\n",
              "    .dataframe thead th {\n",
              "        text-align: right;\n",
              "    }\n",
              "</style>\n",
              "<table border=\"1\" class=\"dataframe\">\n",
              "  <thead>\n",
              "    <tr style=\"text-align: right;\">\n",
              "      <th></th>\n",
              "      <th>Loan_ID</th>\n",
              "      <th>Gender</th>\n",
              "      <th>Married</th>\n",
              "      <th>Dependents</th>\n",
              "      <th>Education</th>\n",
              "      <th>Self_Employed</th>\n",
              "      <th>ApplicantIncome</th>\n",
              "      <th>CoapplicantIncome</th>\n",
              "      <th>LoanAmount</th>\n",
              "      <th>Loan_Amount_Term</th>\n",
              "      <th>Credit_History</th>\n",
              "      <th>Property_Area</th>\n",
              "      <th>Loan_Status</th>\n",
              "    </tr>\n",
              "  </thead>\n",
              "  <tbody>\n",
              "    <tr>\n",
              "      <th>350</th>\n",
              "      <td>LP002139</td>\n",
              "      <td>Male</td>\n",
              "      <td>Yes</td>\n",
              "      <td>0</td>\n",
              "      <td>Graduate</td>\n",
              "      <td>No</td>\n",
              "      <td>9083</td>\n",
              "      <td>0.0</td>\n",
              "      <td>228.0</td>\n",
              "      <td>360.0</td>\n",
              "      <td>1.0</td>\n",
              "      <td>Semiurban</td>\n",
              "      <td>Y</td>\n",
              "    </tr>\n",
              "    <tr>\n",
              "      <th>377</th>\n",
              "      <td>LP002223</td>\n",
              "      <td>Male</td>\n",
              "      <td>Yes</td>\n",
              "      <td>0</td>\n",
              "      <td>Graduate</td>\n",
              "      <td>No</td>\n",
              "      <td>4310</td>\n",
              "      <td>0.0</td>\n",
              "      <td>130.0</td>\n",
              "      <td>360.0</td>\n",
              "      <td>NaN</td>\n",
              "      <td>Semiurban</td>\n",
              "      <td>Y</td>\n",
              "    </tr>\n",
              "    <tr>\n",
              "      <th>163</th>\n",
              "      <td>LP001570</td>\n",
              "      <td>Male</td>\n",
              "      <td>Yes</td>\n",
              "      <td>2</td>\n",
              "      <td>Graduate</td>\n",
              "      <td>No</td>\n",
              "      <td>4167</td>\n",
              "      <td>1447.0</td>\n",
              "      <td>158.0</td>\n",
              "      <td>360.0</td>\n",
              "      <td>1.0</td>\n",
              "      <td>Rural</td>\n",
              "      <td>Y</td>\n",
              "    </tr>\n",
              "    <tr>\n",
              "      <th>609</th>\n",
              "      <td>LP002978</td>\n",
              "      <td>Female</td>\n",
              "      <td>No</td>\n",
              "      <td>0</td>\n",
              "      <td>Graduate</td>\n",
              "      <td>No</td>\n",
              "      <td>2900</td>\n",
              "      <td>0.0</td>\n",
              "      <td>71.0</td>\n",
              "      <td>360.0</td>\n",
              "      <td>1.0</td>\n",
              "      <td>Rural</td>\n",
              "      <td>Y</td>\n",
              "    </tr>\n",
              "    <tr>\n",
              "      <th>132</th>\n",
              "      <td>LP001478</td>\n",
              "      <td>Male</td>\n",
              "      <td>No</td>\n",
              "      <td>0</td>\n",
              "      <td>Graduate</td>\n",
              "      <td>No</td>\n",
              "      <td>2718</td>\n",
              "      <td>0.0</td>\n",
              "      <td>70.0</td>\n",
              "      <td>360.0</td>\n",
              "      <td>1.0</td>\n",
              "      <td>Semiurban</td>\n",
              "      <td>Y</td>\n",
              "    </tr>\n",
              "    <tr>\n",
              "      <th>578</th>\n",
              "      <td>LP002877</td>\n",
              "      <td>Male</td>\n",
              "      <td>Yes</td>\n",
              "      <td>1</td>\n",
              "      <td>Graduate</td>\n",
              "      <td>No</td>\n",
              "      <td>1782</td>\n",
              "      <td>2232.0</td>\n",
              "      <td>107.0</td>\n",
              "      <td>360.0</td>\n",
              "      <td>1.0</td>\n",
              "      <td>Rural</td>\n",
              "      <td>Y</td>\n",
              "    </tr>\n",
              "    <tr>\n",
              "      <th>316</th>\n",
              "      <td>LP002035</td>\n",
              "      <td>Male</td>\n",
              "      <td>Yes</td>\n",
              "      <td>2</td>\n",
              "      <td>Graduate</td>\n",
              "      <td>No</td>\n",
              "      <td>3717</td>\n",
              "      <td>0.0</td>\n",
              "      <td>120.0</td>\n",
              "      <td>360.0</td>\n",
              "      <td>1.0</td>\n",
              "      <td>Semiurban</td>\n",
              "      <td>Y</td>\n",
              "    </tr>\n",
              "    <tr>\n",
              "      <th>2</th>\n",
              "      <td>LP001005</td>\n",
              "      <td>Male</td>\n",
              "      <td>Yes</td>\n",
              "      <td>0</td>\n",
              "      <td>Graduate</td>\n",
              "      <td>Yes</td>\n",
              "      <td>3000</td>\n",
              "      <td>0.0</td>\n",
              "      <td>66.0</td>\n",
              "      <td>360.0</td>\n",
              "      <td>1.0</td>\n",
              "      <td>Urban</td>\n",
              "      <td>Y</td>\n",
              "    </tr>\n",
              "    <tr>\n",
              "      <th>340</th>\n",
              "      <td>LP002115</td>\n",
              "      <td>Male</td>\n",
              "      <td>Yes</td>\n",
              "      <td>3+</td>\n",
              "      <td>Not Graduate</td>\n",
              "      <td>No</td>\n",
              "      <td>2647</td>\n",
              "      <td>1587.0</td>\n",
              "      <td>173.0</td>\n",
              "      <td>360.0</td>\n",
              "      <td>1.0</td>\n",
              "      <td>Rural</td>\n",
              "      <td>N</td>\n",
              "    </tr>\n",
              "    <tr>\n",
              "      <th>77</th>\n",
              "      <td>LP001259</td>\n",
              "      <td>Male</td>\n",
              "      <td>Yes</td>\n",
              "      <td>1</td>\n",
              "      <td>Graduate</td>\n",
              "      <td>Yes</td>\n",
              "      <td>1000</td>\n",
              "      <td>3022.0</td>\n",
              "      <td>110.0</td>\n",
              "      <td>360.0</td>\n",
              "      <td>1.0</td>\n",
              "      <td>Urban</td>\n",
              "      <td>N</td>\n",
              "    </tr>\n",
              "  </tbody>\n",
              "</table>\n",
              "</div>"
            ],
            "text/plain": [
              "      Loan_ID  Gender Married  ... Credit_History Property_Area Loan_Status\n",
              "350  LP002139    Male     Yes  ...            1.0     Semiurban           Y\n",
              "377  LP002223    Male     Yes  ...            NaN     Semiurban           Y\n",
              "163  LP001570    Male     Yes  ...            1.0         Rural           Y\n",
              "609  LP002978  Female      No  ...            1.0         Rural           Y\n",
              "132  LP001478    Male      No  ...            1.0     Semiurban           Y\n",
              "578  LP002877    Male     Yes  ...            1.0         Rural           Y\n",
              "316  LP002035    Male     Yes  ...            1.0     Semiurban           Y\n",
              "2    LP001005    Male     Yes  ...            1.0         Urban           Y\n",
              "340  LP002115    Male     Yes  ...            1.0         Rural           N\n",
              "77   LP001259    Male     Yes  ...            1.0         Urban           N\n",
              "\n",
              "[10 rows x 13 columns]"
            ]
          },
          "metadata": {
            "tags": []
          },
          "execution_count": 3
        }
      ]
    },
    {
      "cell_type": "markdown",
      "metadata": {
        "id": "8GselBChAPV6"
      },
      "source": [
        "**Reading the test data**"
      ]
    },
    {
      "cell_type": "code",
      "metadata": {
        "id": "GLW-GqtGArYA"
      },
      "source": [
        "X = data.drop(['Loan_ID','Loan_Status'], axis=1)\n",
        "y = data['Loan_Status']"
      ],
      "execution_count": 4,
      "outputs": []
    },
    {
      "cell_type": "code",
      "metadata": {
        "id": "KyQqI8Knd8Fh"
      },
      "source": [
        "X_train, X_test, y_train, y_test = train_test_split(X, y, test_size=0.2,\n",
        "                                                    random_state=42, stratify=y)"
      ],
      "execution_count": 5,
      "outputs": []
    },
    {
      "cell_type": "code",
      "metadata": {
        "id": "n08cetcdHxjr",
        "outputId": "ff8d18af-a3d3-4e99-a4d5-a9975bca0452",
        "colab": {
          "base_uri": "https://localhost:8080/",
          "height": 52
        }
      },
      "source": [
        "print(X_train.shape, y_train.shape)\n",
        "print(X_test.shape, y_test.shape)"
      ],
      "execution_count": 6,
      "outputs": [
        {
          "output_type": "stream",
          "text": [
            "(491, 11) (491,)\n",
            "(123, 11) (123,)\n"
          ],
          "name": "stdout"
        }
      ]
    },
    {
      "cell_type": "markdown",
      "metadata": {
        "id": "Ggq7TM0_A3ma"
      },
      "source": [
        "**Understanding the Data**\n",
        "\n",
        "In this section, we will look at the structure of the train and test datasets. Firstly, we will check the features present in our data and then we will look at their data types.\n"
      ]
    },
    {
      "cell_type": "code",
      "metadata": {
        "id": "thJq1nyEAyzN",
        "outputId": "536f580a-8844-4142-f347-2188ec2fa261",
        "colab": {
          "base_uri": "https://localhost:8080/",
          "height": 86
        }
      },
      "source": [
        "X_train.columns"
      ],
      "execution_count": 7,
      "outputs": [
        {
          "output_type": "execute_result",
          "data": {
            "text/plain": [
              "Index(['Gender', 'Married', 'Dependents', 'Education', 'Self_Employed',\n",
              "       'ApplicantIncome', 'CoapplicantIncome', 'LoanAmount',\n",
              "       'Loan_Amount_Term', 'Credit_History', 'Property_Area'],\n",
              "      dtype='object')"
            ]
          },
          "metadata": {
            "tags": []
          },
          "execution_count": 7
        }
      ]
    },
    {
      "cell_type": "markdown",
      "metadata": {
        "id": "X4B_14bODCC5"
      },
      "source": [
        "We have 12 independent variables and 1 target variable, i.e. Loan_Status in the train dataset."
      ]
    },
    {
      "cell_type": "markdown",
      "metadata": {
        "id": "ZwHfVRY2HGxj"
      },
      "source": [
        "We will predict the Loan_Status using the model built using the train data."
      ]
    },
    {
      "cell_type": "markdown",
      "metadata": {
        "id": "FPG_511mHOh5"
      },
      "source": [
        "### Given below is the description for each variable.\n",
        "\n",
        "##### **Variable\tDescription** \n",
        "\n",
        "* **Loan_ID**:\tUnique Loan ID\n",
        "* **Gender**:\tMale/ Female\n",
        "* **Married**:\tApplicant married (Y/N)\n",
        "* **Dependents**:\tNumber of dependents\n",
        "* **Education**:\tApplicant Education (Graduate/Under Graduate)\n",
        "* **Self_Employed**:\tSelf employed (Y/N)\n",
        "* **ApplicantIncome**:\tApplicant income\n",
        "* **CoapplicantIncome**:\tCoapplicant income\n",
        "* **LoanAmount**:\tLoan amount in thousands\n",
        "* **Loan_Amount_Term**:\tTerm of loan in months\n",
        "* **Credit_History**:\tCredit history meets guidelines\n",
        "* **Property_Area**:\tUrban/ Semi Urban/ Rural\n",
        "* **Loan_Status**:\tLoan approved (Y/N)\n"
      ]
    },
    {
      "cell_type": "code",
      "metadata": {
        "id": "sD56V-87G58B",
        "outputId": "edb376cb-0dbb-4b47-daab-a0687d01a9f3",
        "colab": {
          "base_uri": "https://localhost:8080/",
          "height": 225
        }
      },
      "source": [
        "# Print data types for each variable\n",
        "X_train.dtypes"
      ],
      "execution_count": 8,
      "outputs": [
        {
          "output_type": "execute_result",
          "data": {
            "text/plain": [
              "Gender                object\n",
              "Married               object\n",
              "Dependents            object\n",
              "Education             object\n",
              "Self_Employed         object\n",
              "ApplicantIncome        int64\n",
              "CoapplicantIncome    float64\n",
              "LoanAmount           float64\n",
              "Loan_Amount_Term     float64\n",
              "Credit_History       float64\n",
              "Property_Area         object\n",
              "dtype: object"
            ]
          },
          "metadata": {
            "tags": []
          },
          "execution_count": 8
        }
      ]
    },
    {
      "cell_type": "code",
      "metadata": {
        "id": "ggtOV7LNH4h3"
      },
      "source": [
        "categorical_features = ['Gender', 'Married', 'Dependents', 'Credit_History',\n",
        "                        'Self_Employed' , 'Property_Area', 'Education']\n",
        "numerical_features = ['ApplicantIncome', 'CoapplicantIncome', 'LoanAmount',\n",
        "                      'Loan_Amount_Term'] \n",
        "\n",
        "# Eye-rolling over DataFrame sample you could obseverve tha 'Credit_History'\n",
        "# is actually a categorical value."
      ],
      "execution_count": 9,
      "outputs": []
    },
    {
      "cell_type": "markdown",
      "metadata": {
        "id": "Kl-GXAy8H5xA"
      },
      "source": [
        "Let’s look at the shape of the dataset."
      ]
    },
    {
      "cell_type": "markdown",
      "metadata": {
        "id": "CQPJUv8X6bwK"
      },
      "source": [
        "### Checking whether there exists null values"
      ]
    },
    {
      "cell_type": "code",
      "metadata": {
        "id": "J3NiTrYY6RKB",
        "outputId": "7b4e4832-6368-4198-9ab1-2a298e6e3fb8",
        "colab": {
          "base_uri": "https://localhost:8080/",
          "height": 225
        }
      },
      "source": [
        "X_train.isna().sum()"
      ],
      "execution_count": 10,
      "outputs": [
        {
          "output_type": "execute_result",
          "data": {
            "text/plain": [
              "Gender               11\n",
              "Married               3\n",
              "Dependents            8\n",
              "Education             0\n",
              "Self_Employed        27\n",
              "ApplicantIncome       0\n",
              "CoapplicantIncome     0\n",
              "LoanAmount           20\n",
              "Loan_Amount_Term     12\n",
              "Credit_History       43\n",
              "Property_Area         0\n",
              "dtype: int64"
            ]
          },
          "metadata": {
            "tags": []
          },
          "execution_count": 10
        }
      ]
    },
    {
      "cell_type": "markdown",
      "metadata": {
        "id": "YOR3hsHEDUsL"
      },
      "source": [
        "So, we have null values in our dataset and will have to impute them. We'll do that based upond decision made during **Univariate Analysis**."
      ]
    },
    {
      "cell_type": "markdown",
      "metadata": {
        "id": "hebTkUwRIaeH"
      },
      "source": [
        "## **Univariate Analysis:**\n",
        "\n",
        "In this section, we will do univariate analysis. It is the simplest form of analyzing data where we examine each variable individually.\n",
        "\n",
        "For categorical features we can use frequency table or bar plots which will calculate the number of each category in a particular variable. \n",
        "\n",
        "For numerical features, probability density plots can be used to look at the distribution of the variable."
      ]
    },
    {
      "cell_type": "markdown",
      "metadata": {
        "id": "lj5KM5ONIrP2"
      },
      "source": [
        "### Visualizing Target Variable\n",
        "\n",
        "We will first look at the target variable, i.e., **Loan_Status**. \n",
        "\n",
        "As it is a categorical variable, let us look at its frequency table, percentage distribution and bar plot.\n",
        "\n",
        "Frequency table of a variable will give us the count of each category in that variable.\n"
      ]
    },
    {
      "cell_type": "code",
      "metadata": {
        "id": "FP7S6gbuI-3y",
        "outputId": "c50b2eed-ed88-48d6-c3c7-dcf62cff46a0",
        "colab": {
          "base_uri": "https://localhost:8080/",
          "height": 0
        }
      },
      "source": [
        "sns.countplot(y_train)"
      ],
      "execution_count": 11,
      "outputs": [
        {
          "output_type": "execute_result",
          "data": {
            "text/plain": [
              "<matplotlib.axes._subplots.AxesSubplot at 0x7fa6e9499390>"
            ]
          },
          "metadata": {
            "tags": []
          },
          "execution_count": 11
        },
        {
          "output_type": "display_data",
          "data": {
            "image/png": "[encoded data removed]",
            "text/plain": [
              "<Figure size 432x288 with 1 Axes>"
            ]
          },
          "metadata": {
            "tags": [],
            "needs_background": "light"
          }
        }
      ]
    },
    {
      "cell_type": "markdown",
      "metadata": {
        "id": "zCQqCU_8ELmU"
      },
      "source": [
        "*So our datasets is **unbalanced** and have a Yes:No ratio as 2:1 (approx)*"
      ]
    },
    {
      "cell_type": "markdown",
      "metadata": {
        "id": "gqv3HvBcJUj8"
      },
      "source": [
        "### Visualizing categorical features\n"
      ]
    },
    {
      "cell_type": "code",
      "metadata": {
        "id": "1hED6mqVK7rV",
        "outputId": "e508c596-6c25-47bb-9b0f-c4584053e4eb",
        "colab": {
          "base_uri": "https://localhost:8080/",
          "height": 0
        }
      },
      "source": [
        "fig = plt.figure(figsize=(20, 10))\n",
        "\n",
        "for i,x in enumerate(categorical_features):\n",
        "    plt.subplot(3, 3, i+1)\n",
        "    sns.countplot(X_train[x])\n",
        "\n",
        "plt.suptitle(\"Categorical Features\", fontsize=20)\n",
        "plt.show()"
      ],
      "execution_count": 12,
      "outputs": [
        {
          "output_type": "display_data",
          "data": {
            "image/png": "[encoded data removed]",
            "text/plain": [
              "<Figure size 1440x720 with 7 Axes>"
            ]
          },
          "metadata": {
            "tags": [],
            "needs_background": "light"
          }
        }
      ]
    },
    {
      "cell_type": "markdown",
      "metadata": {
        "id": "sFNDi7WiJ5l9"
      },
      "source": [
        "\n",
        "It can be inferred from the above bar plots that:\n",
        "* Majority loan applicants in the dataset are male.\n",
        "* Around 65% of the applicants in the dataset are married.\n",
        "* Ratio of aplicants with dependents and without is roughly 7:5\n",
        "* Around 80% of the applicants hold a graduate degree.\n",
        "* Only about 15% applicants in the dataset are self employed.\n",
        "* Among applicants distribution of people living in urban, semi-urban and rural is pretty much similar.\n",
        "* Around 85% applicants have repaid their debts.\n"
      ]
    },
    {
      "cell_type": "markdown",
      "metadata": {
        "id": "8TcJ00GzO_4U"
      },
      "source": [
        "### Visualizing numerical features"
      ]
    },
    {
      "cell_type": "code",
      "metadata": {
        "id": "LUAaFbcVPD8N",
        "outputId": "1c419970-fbc8-4ee0-a15a-e6b1744e43ad",
        "colab": {
          "base_uri": "https://localhost:8080/",
          "height": 677
        }
      },
      "source": [
        "fig = plt.figure(figsize=(20, 10))\n",
        "\n",
        "for i,x in enumerate(numerical_features):\n",
        "    plt.subplot(2, 2, i+1)\n",
        "    sns.distplot(X_train[x])\n",
        "\n",
        "plt.suptitle(\"Numerical Features\", fontsize=20)\n",
        "plt.show()"
      ],
      "execution_count": 13,
      "outputs": [
        {
          "output_type": "display_data",
          "data": {
            "image/png": "[encoded data removed]",
            "text/plain": [
              "<Figure size 1440x720 with 4 Axes>"
            ]
          },
          "metadata": {
            "tags": [],
            "needs_background": "light"
          }
        }
      ]
    },
    {
      "cell_type": "markdown",
      "metadata": {
        "id": "PUpqAvfKKqrM"
      },
      "source": [
        "It can be seen that in the distributions of **'ApplicantIncome', 'CoapplicantIncome' and 'LoanAmount'** graph is normal distribution skewed towards right. And in case of **Loan_Amount_Term** we see a high concentration around 350 months.\n",
        "\n",
        "As algorithms works better if the data is normally distributed, we will either cap this or cut the data into bins(i.e; making numerical to categorical)"
      ]
    },
    {
      "cell_type": "markdown",
      "metadata": {
        "id": "ZUb_j5JTe-CA"
      },
      "source": [
        "Lets recall some of the hypotheses that we generated earlier:\n",
        "\n",
        "•\tApplicants with high income should have more chances of loan approval.\n",
        "\n",
        "•\tApplicants who have repaid their previous debts should have higher chances of loan approval.\n",
        "\n",
        "•\tLoan approval should also depend on the loan amount. If the loan amount is less, chances of loan approval should be high.\n",
        "\n",
        "•\tLesser the amount to be paid monthly to repay the loan, higher the chances of loan approval.\n",
        "\n",
        "Lets try to test the above mentioned hypotheses using bivariate analysis\n",
        "\n",
        "After looking at every variable individually in univariate analysis, we will now explore them again with respect to the target variable.\n"
      ]
    },
    {
      "cell_type": "markdown",
      "metadata": {
        "id": "EE_RzW1pTHqq"
      },
      "source": [
        "## **Bivariate analysis with respect to output(Loan_Status)**"
      ]
    },
    {
      "cell_type": "markdown",
      "metadata": {
        "id": "cdD1RQ-UTT8W"
      },
      "source": [
        "### Categorical Features"
      ]
    },
    {
      "cell_type": "code",
      "metadata": {
        "id": "NQ6FSSHyL5bx",
        "outputId": "9beda9aa-5ffd-4148-d956-4f41fc0dbb6f",
        "colab": {
          "base_uri": "https://localhost:8080/",
          "height": 867
        }
      },
      "source": [
        "fig, axes = plt.subplots(nrows=2, ncols=4)\n",
        "fig.set_figheight(12)\n",
        "fig.set_figwidth(20)\n",
        "\n",
        "i=0\n",
        "\n",
        "for j,x in enumerate(categorical_features):\n",
        "    if j>3:\n",
        "        i=1; j-=4\n",
        "    _crs_tab = pd.crosstab(X_train[x].dropna(), y_train)\n",
        "    _crs_tab.div(_crs_tab.sum(1).astype(float), axis=0).plot(kind=\"bar\",\n",
        "                                                             stacked=True,\n",
        "                                                             ax=axes[i,j])\n",
        "\n",
        "plt.suptitle(\"Categorical Features\", fontsize=20)"
      ],
      "execution_count": 14,
      "outputs": [
        {
          "output_type": "execute_result",
          "data": {
            "text/plain": [
              "Text(0.5, 0.98, 'Categorical Features')"
            ]
          },
          "metadata": {
            "tags": []
          },
          "execution_count": 14
        },
        {
          "output_type": "display_data",
          "data": {
            "image/png": "[encoded data removed]",
            "text/plain": [
              "<Figure size 1440x864 with 8 Axes>"
            ]
          },
          "metadata": {
            "tags": [],
            "needs_background": "light"
          }
        }
      ]
    },
    {
      "cell_type": "markdown",
      "metadata": {
        "id": "qio1SItuhA7O"
      },
      "source": [
        "* It seems people with credit history as 1 are more likely to get their loans approved.\n",
        "* For all other features approval distribution amongst various classes is more or less the same. "
      ]
    },
    {
      "cell_type": "markdown",
      "metadata": {
        "id": "26WDd6BEhJfw"
      },
      "source": [
        "### Numerical Features"
      ]
    },
    {
      "cell_type": "markdown",
      "metadata": {
        "id": "majksn4kN-TP"
      },
      "source": [
        "For the ease of visualization and further in preprocessing to handle outliear we will cut the continous varianble into ordinal bins."
      ]
    },
    {
      "cell_type": "code",
      "metadata": {
        "id": "LZkXuDo4PAPz",
        "outputId": "f709ec03-e887-4fc5-e501-54f789d84495",
        "colab": {
          "base_uri": "https://localhost:8080/",
          "height": 34
        }
      },
      "source": [
        "print(numerical_features)"
      ],
      "execution_count": 15,
      "outputs": [
        {
          "output_type": "stream",
          "text": [
            "['ApplicantIncome', 'CoapplicantIncome', 'LoanAmount', 'Loan_Amount_Term']\n"
          ],
          "name": "stdout"
        }
      ]
    },
    {
      "cell_type": "code",
      "metadata": {
        "id": "8Dm-xCWTgK20"
      },
      "source": [
        "#list of binned numerical feature vectors \n",
        "binned_nums = []\n",
        "\n",
        "## ApplicantIncome ##\n",
        "AIbins = [0, 1000, 2000, 3000, 4000, 6000, 8000, 15000, 20000, 40000, 81000]\n",
        "binned_nums.append(pd.cut(X_train['ApplicantIncome'], bins=AIbins,\n",
        "                          labels=list(ascii_uppercase[0:10])))\n",
        "\n",
        "## CoapplicantIncome ##\n",
        "CIbins = [0, 500, 1000, 2000, 3000, 4000, 5000, 8000, 12000, 20000, 50000]\n",
        "binned_nums.append(pd.cut(X_train['CoapplicantIncome'], bins=CIbins,\n",
        "                          labels=list(ascii_uppercase[0:10])))\n",
        "\n",
        "## LoanAmount ##\n",
        "LAbins = [0, 50, 100, 200, 500, 1000]\n",
        "LAlabels = ['very_small_sum', 'small_sum', 'moderate_sum',\n",
        "            'large_sum', 'very_large_sum']\n",
        "binned_nums.append(pd.cut(X_train['LoanAmount'], bins=LAbins, labels=LAlabels))\n",
        "\n",
        "\n",
        "## Loan_Amount_Term ##\n",
        "LATbins = [0, 60, 360, 600]\n",
        "LATlabels = ['short_term', 'moderate_term', 'long_term']\n",
        "binned_nums.append(pd.cut(X_train['Loan_Amount_Term'], bins=LATbins,\n",
        "                          labels=LATlabels))"
      ],
      "execution_count": 16,
      "outputs": []
    },
    {
      "cell_type": "code",
      "metadata": {
        "id": "DGAuZSihHDvW",
        "outputId": "89dd3ff8-899e-4e1b-8a89-b41ad39e52d4",
        "colab": {
          "base_uri": "https://localhost:8080/",
          "height": 757
        }
      },
      "source": [
        "fig, axes = plt.subplots(nrows=2, ncols=2)\n",
        "fig.set_figheight(10)\n",
        "fig.set_figwidth(20)\n",
        "\n",
        "i=0\n",
        "\n",
        "for j,x in enumerate(binned_nums):\n",
        "    \n",
        "    if j>1:\n",
        "        i=1; j-=2\n",
        "    _crs_tab = pd.crosstab(x.dropna(), y_train)\n",
        "    _crs_tab.div(_crs_tab.sum(1).astype(float), axis=0).plot(kind=\"bar\",\n",
        "                                                             stacked=True,\n",
        "                                                             ax=axes[i,j])\n",
        "\n",
        "plt.suptitle(\"Numerical Features (Binned)\", fontsize=20)"
      ],
      "execution_count": 17,
      "outputs": [
        {
          "output_type": "execute_result",
          "data": {
            "text/plain": [
              "Text(0.5, 0.98, 'Numerical Features (Binned)')"
            ]
          },
          "metadata": {
            "tags": []
          },
          "execution_count": 17
        },
        {
          "output_type": "display_data",
          "data": {
            "image/png": "[encoded data removed]",
            "text/plain": [
              "<Figure size 1440x720 with 4 Axes>"
            ]
          },
          "metadata": {
            "tags": [],
            "needs_background": "light"
          }
        }
      ]
    },
    {
      "cell_type": "markdown",
      "metadata": {
        "id": "zfMKIk8vJ4JG"
      },
      "source": [
        "#### From the graphs we can conclude:\n",
        "\n",
        "We don't see any clear relation between Applicant income and loan approval but on ther hand we can clearly see a relation coapplicant income and loan amount which is having a lower income co-applicant reaises odds of geeting loan approved. And surety of approval when Co-Applicant Income is very low.\n",
        "> This is strange. Let's get value counts of **'Coapplicant_Income'**"
      ]
    },
    {
      "cell_type": "code",
      "metadata": {
        "id": "hveZKYtDKW1V",
        "outputId": "83df56c4-ad27-4430-b098-d2f6de8ea167",
        "colab": {
          "base_uri": "https://localhost:8080/",
          "height": 225
        }
      },
      "source": [
        "X_train['CoapplicantIncome'].value_counts(sort=True)"
      ],
      "execution_count": 18,
      "outputs": [
        {
          "output_type": "execute_result",
          "data": {
            "text/plain": [
              "0.0       223\n",
              "2083.0      5\n",
              "1666.0      5\n",
              "2500.0      4\n",
              "2333.0      3\n",
              "         ... \n",
              "1915.0      1\n",
              "2232.0      1\n",
              "913.0       1\n",
              "1668.0      1\n",
              "2254.0      1\n",
              "Name: CoapplicantIncome, Length: 232, dtype: int64"
            ]
          },
          "metadata": {
            "tags": []
          },
          "execution_count": 18
        }
      ]
    },
    {
      "cell_type": "markdown",
      "metadata": {
        "id": "kRdIE7UKKp-0"
      },
      "source": [
        ">The reason we were observing 100% loan approval at very low coapplicant income was because a significant number of applicant do not have a coapplicant at all.\n",
        "\n",
        ">That makes sense. What we can do is that, we could make a new feature **'Overall_Income'** which would be addition of **'Applicant Income'** and **'Coapplicant Income'**. "
      ]
    },
    {
      "cell_type": "code",
      "metadata": {
        "id": "5FN-2D1XaGdH",
        "outputId": "921349d2-ecbc-4fea-b674-a3827953d6b3",
        "colab": {
          "base_uri": "https://localhost:8080/",
          "height": 294
        }
      },
      "source": [
        "Overall_Income = X_train['CoapplicantIncome'] + X_train['ApplicantIncome']\n",
        "\n",
        "OIbins = [0, 2000, 4000, 8000, 16000, 30000, 60000, 100000]\n",
        "OI_trans = pd.cut(Overall_Income, bins=OIbins,\n",
        "                          labels=list(ascii_uppercase[0:7]))\n",
        "_crs_tab = pd.crosstab(OI_trans.dropna(), y_train)\n",
        "_crs_tab.div(_crs_tab.sum(1).astype(float), axis=0).plot(kind=\"bar\",\n",
        "                                                         stacked=True)\n"
      ],
      "execution_count": 19,
      "outputs": [
        {
          "output_type": "execute_result",
          "data": {
            "text/plain": [
              "<matplotlib.axes._subplots.AxesSubplot at 0x7fa6e70180f0>"
            ]
          },
          "metadata": {
            "tags": []
          },
          "execution_count": 19
        },
        {
          "output_type": "display_data",
          "data": {
            "image/png": "[encoded data removed]",
            "text/plain": [
              "<Figure size 432x288 with 1 Axes>"
            ]
          },
          "metadata": {
            "tags": [],
            "needs_background": "light"
          }
        }
      ]
    },
    {
      "cell_type": "code",
      "metadata": {
        "id": "vKmeRxUlPht5",
        "outputId": "aa0ebadb-74ec-4029-bcf0-2cd8474d25aa",
        "colab": {
          "base_uri": "https://localhost:8080/",
          "height": 206
        }
      },
      "source": [
        "corr_matrix = X_train.corr()\n",
        "corr_matrix"
      ],
      "execution_count": 20,
      "outputs": [
        {
          "output_type": "execute_result",
          "data": {
            "text/html": [
              "<div>\n",
              "<style scoped>\n",
              "    .dataframe tbody tr th:only-of-type {\n",
              "        vertical-align: middle;\n",
              "    }\n",
              "\n",
              "    .dataframe tbody tr th {\n",
              "        vertical-align: top;\n",
              "    }\n",
              "\n",
              "    .dataframe thead th {\n",
              "        text-align: right;\n",
              "    }\n",
              "</style>\n",
              "<table border=\"1\" class=\"dataframe\">\n",
              "  <thead>\n",
              "    <tr style=\"text-align: right;\">\n",
              "      <th></th>\n",
              "      <th>ApplicantIncome</th>\n",
              "      <th>CoapplicantIncome</th>\n",
              "      <th>LoanAmount</th>\n",
              "      <th>Loan_Amount_Term</th>\n",
              "      <th>Credit_History</th>\n",
              "    </tr>\n",
              "  </thead>\n",
              "  <tbody>\n",
              "    <tr>\n",
              "      <th>ApplicantIncome</th>\n",
              "      <td>1.000000</td>\n",
              "      <td>-0.130215</td>\n",
              "      <td>0.602661</td>\n",
              "      <td>-0.045426</td>\n",
              "      <td>-0.045082</td>\n",
              "    </tr>\n",
              "    <tr>\n",
              "      <th>CoapplicantIncome</th>\n",
              "      <td>-0.130215</td>\n",
              "      <td>1.000000</td>\n",
              "      <td>0.215280</td>\n",
              "      <td>-0.100915</td>\n",
              "      <td>-0.005889</td>\n",
              "    </tr>\n",
              "    <tr>\n",
              "      <th>LoanAmount</th>\n",
              "      <td>0.602661</td>\n",
              "      <td>0.215280</td>\n",
              "      <td>1.000000</td>\n",
              "      <td>0.026364</td>\n",
              "      <td>0.000363</td>\n",
              "    </tr>\n",
              "    <tr>\n",
              "      <th>Loan_Amount_Term</th>\n",
              "      <td>-0.045426</td>\n",
              "      <td>-0.100915</td>\n",
              "      <td>0.026364</td>\n",
              "      <td>1.000000</td>\n",
              "      <td>0.055825</td>\n",
              "    </tr>\n",
              "    <tr>\n",
              "      <th>Credit_History</th>\n",
              "      <td>-0.045082</td>\n",
              "      <td>-0.005889</td>\n",
              "      <td>0.000363</td>\n",
              "      <td>0.055825</td>\n",
              "      <td>1.000000</td>\n",
              "    </tr>\n",
              "  </tbody>\n",
              "</table>\n",
              "</div>"
            ],
            "text/plain": [
              "                   ApplicantIncome  ...  Credit_History\n",
              "ApplicantIncome           1.000000  ...       -0.045082\n",
              "CoapplicantIncome        -0.130215  ...       -0.005889\n",
              "LoanAmount                0.602661  ...        0.000363\n",
              "Loan_Amount_Term         -0.045426  ...        0.055825\n",
              "Credit_History           -0.045082  ...        1.000000\n",
              "\n",
              "[5 rows x 5 columns]"
            ]
          },
          "metadata": {
            "tags": []
          },
          "execution_count": 20
        }
      ]
    },
    {
      "cell_type": "code",
      "metadata": {
        "id": "P4C72oYKQHu9",
        "outputId": "d55bc31d-3956-4c0c-b640-802171b0345a",
        "colab": {
          "base_uri": "https://localhost:8080/",
          "height": 475
        }
      },
      "source": [
        "plt.figure(figsize=(6,6))\n",
        "sns.heatmap(corr_matrix, annot=True, vmin=-1)"
      ],
      "execution_count": 21,
      "outputs": [
        {
          "output_type": "execute_result",
          "data": {
            "text/plain": [
              "<matplotlib.axes._subplots.AxesSubplot at 0x7fa6e8d38f28>"
            ]
          },
          "metadata": {
            "tags": []
          },
          "execution_count": 21
        },
        {
          "output_type": "display_data",
          "data": {
            "image/png": "[encoded data removed]",
            "text/plain": [
              "<Figure size 432x432 with 2 Axes>"
            ]
          },
          "metadata": {
            "tags": [],
            "needs_background": "light"
          }
        }
      ]
    },
    {
      "cell_type": "code",
      "metadata": {
        "id": "ZSbNTwE3QnTU",
        "outputId": "89103bf9-0475-4367-94af-88c7022773d5",
        "colab": {
          "base_uri": "https://localhost:8080/",
          "height": 311
        }
      },
      "source": [
        "_temp_X_train = X_train[numerical_features].dropna()\n",
        "_temp_y_train = y_train[_temp_X_train.index]\n",
        "\n",
        "vis_pearson = FeatureCorrelation(labels=numerical_features,\n",
        "                                 method='mutual_info-classification', sort=True)\n",
        "vis_pearson.fit(_temp_X_train, _temp_y_train)\n",
        "vis_pearson.poof()"
      ],
      "execution_count": 22,
      "outputs": [
        {
          "output_type": "display_data",
          "data": {
            "image/png": "[encoded data removed]",
            "text/plain": [
              "<Figure size 432x288 with 1 Axes>"
            ]
          },
          "metadata": {
            "tags": [],
            "needs_background": "light"
          }
        },
        {
          "output_type": "execute_result",
          "data": {
            "text/plain": [
              "<matplotlib.axes._subplots.AxesSubplot at 0x7fa6e8e99b70>"
            ]
          },
          "metadata": {
            "tags": []
          },
          "execution_count": 22
        }
      ]
    },
    {
      "cell_type": "markdown",
      "metadata": {
        "id": "pa7XZ8ZgTKW7"
      },
      "source": [
        "\n",
        "\n",
        "**Mutual information** is a measure between two (possibly multi-dimensional) random variables and , that quantifies the amount of information obtained about one random variable, through the other random variable.\n",
        "\n",
        ">mutual_info-classification method returns 0 if no correlation and non-zero otherwise.\n",
        "\n",
        "So, we can remove feature **LoanAmount** and **ApplicantIncome**. Similar inference could also be from the divided bar blot that we earlier plotted."
      ]
    },
    {
      "cell_type": "markdown",
      "metadata": {
        "id": "JVZTH7jlPHKB"
      },
      "source": [
        "## **Pre-Processing (Handling null-values and outliers)**"
      ]
    },
    {
      "cell_type": "markdown",
      "metadata": {
        "id": "FILhUAT7PVfu"
      },
      "source": [
        "Based upon the insights we got form univariate and bi-variate anlysis we are going process oour data.\n",
        "\n",
        "Actions/Steps to be performed:\n",
        "1. Impute Categorical values based on **most_frequent** (mode) value. Using *SimpleImputer* estimator.\n",
        "2. Impute Numercal values based on **median**.  Using *SimpleImputer* estimator.\n",
        "3. Cut numerical values to bins. *We will create a **custom estimator** for this step*.\n",
        "4. Apply *target_encoder* on nominal features.\n",
        "5. Apply *OrdinalEncoder* on ordinal features."
      ]
    },
    {
      "cell_type": "code",
      "metadata": {
        "id": "qt6tx9epnhRo"
      },
      "source": [
        "# TO-DO\n",
        "class Nums2Cats(BaseEstimator, TransformerMixin):\n",
        "    \"\"\"\n",
        "    A custom class used to pre-process loan dataset.\n",
        "\n",
        "    Methods\n",
        "    -------\n",
        "    fit(X, y=None)\n",
        "        Effectively nothing performed in fitting\n",
        "    transform(X)\n",
        "        Transforms the given dataframe in to dataframe such that numerical\n",
        "        features:\n",
        "            - 'ApplicantIncome' and 'LoanAmount' are dropped\n",
        "            - 'CoapplicantIncome' and 'Loan_Amount_Term' are converted into\n",
        "               ordinal categorical values.\n",
        "    \"\"\"\n",
        "    def __init__(self):\n",
        "        pass\n",
        "    def fit(self, X, y=None):\n",
        "        return self # nothing else to do\n",
        "    def transform(self, X):\n",
        "        \"\"\"\n",
        "        This method transforms 'CoapplicantIncome' and 'Loan_Amount_Term' are\n",
        "        converts into ordinal categorical values.\n",
        "        And drops 'ApplicantIncome' and 'LoanAmount'.\n",
        "\n",
        "        Parameters\n",
        "        ----------\n",
        "        X : pandas.DataFrame\n",
        "            The dataframe on which processing is needed to be performed.\n",
        "\n",
        "        Returns\n",
        "        -------\n",
        "        pandas.DataFrame\n",
        "            a processed DataFrame.\n",
        "        \"\"\"\n",
        "        \n",
        "        # These steps are exactly the same as the one we did above in\n",
        "        # bivariate visualization with respect to outcome(y_train). \n",
        "        # The only difference is that here we use \n",
        "        # numpy.digitize() instead of pandas.cut()\n",
        "        # Please consider going through the documentation of numpy.digitize()\n",
        "             \n",
        "        AI_ix, CI_ix, LA_ix, LAT_ix = 0, 1, 2, 3\n",
        "\n",
        "        ## CoapplicantIncome ##\n",
        "        CIbins = [500, 1000, 2000, 3000, 4000, 5000, 8000, 12000, 20000]\n",
        "        CI_cat = np.digitize( (X[:, CI_ix]), bins=CIbins)    \n",
        "\n",
        "\n",
        "        ## Loan_Amount_Term ##\n",
        "        LATbins = [60, 360]\n",
        "        LAT_cat = np.digitize(X[:, LAT_ix], bins=LATbins)\n",
        "\n",
        "        return np.c_[CI_cat, LAT_cat]"
      ],
      "execution_count": 23,
      "outputs": []
    },
    {
      "cell_type": "code",
      "metadata": {
        "id": "mSp_s9OLzRFh"
      },
      "source": [
        "mode_imp = SimpleImputer(strategy='most_frequent')\n",
        "median_imp = SimpleImputer(strategy='median')\n",
        "num2cats = Nums2Cats()\n",
        "\n",
        "cat_pipe = Pipeline(steps=[('mode_imp', mode_imp)])\n",
        "num_pipe = Pipeline(steps=[('median_imp', median_imp), ('num2cats', num2cats)])\n",
        "col_trans_lv1 = ColumnTransformer([('cat_pipe', cat_pipe, categorical_features),\n",
        "                                   ('num_pipe', num_pipe, numerical_features)])"
      ],
      "execution_count": 24,
      "outputs": []
    },
    {
      "cell_type": "code",
      "metadata": {
        "id": "oj0-wnShH1lC",
        "outputId": "de733b47-ffcc-41c4-9118-83803f1917bc",
        "colab": {
          "base_uri": "https://localhost:8080/",
          "height": 34
        }
      },
      "source": [
        "numerical_features"
      ],
      "execution_count": 25,
      "outputs": [
        {
          "output_type": "execute_result",
          "data": {
            "text/plain": [
              "['ApplicantIncome', 'CoapplicantIncome', 'LoanAmount', 'Loan_Amount_Term']"
            ]
          },
          "metadata": {
            "tags": []
          },
          "execution_count": 25
        }
      ]
    },
    {
      "cell_type": "code",
      "metadata": {
        "id": "V82MGZB7H1lH",
        "outputId": "fb932c45-d994-40fe-c570-f1e4b7352c13",
        "colab": {
          "base_uri": "https://localhost:8080/",
          "height": 104
        }
      },
      "source": [
        "# Testing lvl 1 transformation\n",
        "test_lvl1 = col_trans_lv1.fit_transform(X_train)  #TO-DO beautify\n",
        "print(test_lvl1[:5])"
      ],
      "execution_count": 26,
      "outputs": [
        {
          "output_type": "stream",
          "text": [
            "[['Male' 'No' '0' 1.0 'No' 'Urban' 'Graduate' 0 2]\n",
            " ['Male' 'Yes' '1' 1.0 'No' 'Semiurban' 'Graduate' 0 2]\n",
            " ['Male' 'Yes' '2' 0.0 'No' 'Rural' 'Graduate' 2 2]\n",
            " ['Male' 'Yes' '1' 0.0 'No' 'Rural' 'Not Graduate' 2 1]\n",
            " ['Male' 'Yes' '0' 1.0 'No' 'Semiurban' 'Graduate' 3 2]]\n"
          ],
          "name": "stdout"
        }
      ]
    },
    {
      "cell_type": "code",
      "metadata": {
        "id": "rgwwdouRLoO5",
        "outputId": "076c56e9-60af-46c1-aebc-7ef23c14d4cb",
        "colab": {
          "base_uri": "https://localhost:8080/",
          "height": 191
        }
      },
      "source": [
        "\"\"\"To replicate transformations from Num2Cats, for visualizing the tranformation\n",
        "being made to the numpy array\"\"\"\n",
        "\n",
        "numerical_features_updated = ['CoapplicantIncome', 'Loan_Amount_Term']\n",
        "\n",
        "print(':: Indices of features after column-transform-lvl1 ::')\n",
        "dict(enumerate(categorical_features+numerical_features_updated))"
      ],
      "execution_count": 27,
      "outputs": [
        {
          "output_type": "stream",
          "text": [
            ":: Indices of features after column-transform-lvl1 ::\n"
          ],
          "name": "stdout"
        },
        {
          "output_type": "execute_result",
          "data": {
            "text/plain": [
              "{0: 'Gender',\n",
              " 1: 'Married',\n",
              " 2: 'Dependents',\n",
              " 3: 'Credit_History',\n",
              " 4: 'Self_Employed',\n",
              " 5: 'Property_Area',\n",
              " 6: 'Education',\n",
              " 7: 'CoapplicantIncome',\n",
              " 8: 'Loan_Amount_Term'}"
            ]
          },
          "metadata": {
            "tags": []
          },
          "execution_count": 27
        }
      ]
    },
    {
      "cell_type": "markdown",
      "metadata": {
        "id": "pjxn7Cn1KpUW"
      },
      "source": [
        "Now that we have imputed numerical and categorical fetures and converted numerical features into ordinal categorical features.\n",
        "\n",
        "Let's now **target_encode** nominal features and **OrdinalEncode** ordinal features "
      ]
    },
    {
      "cell_type": "markdown",
      "metadata": {
        "id": "kY3M7SQaLeh5"
      },
      "source": [
        "After **col_trans_lvl1** transformation we will get a numpy.ndarray.\n",
        "\n",
        ">From our list of feature ordinal feature will be  ***'ApplicantIncome', 'CoapplicantIncome', 'LoanAmount', 'Loan_Amount_Term', 'Education', 'Dependents'*** out of this except for ***'Education', 'Dependents'*** are already ordinally encoded (thanks to numpy.digitizer).\n",
        "\n",
        "> And we have nominal features, ***'Gender', 'Married', 'Credit_History', 'Self_Employed', 'Property_Area'***. We will target_encode these features."
      ]
    },
    {
      "cell_type": "code",
      "metadata": {
        "id": "L-sVC6loLP9H"
      },
      "source": [
        "ordinal_feat_ix = [2, 6]             # 'Dependents', 'Education'\n",
        "\n",
        "nominal_feat_ix = [0, 1, 3, 4, 5]    # 'Gender', 'Married', 'Credit_History',\n",
        "                                     # 'Self_Employed', 'Property_Area'"
      ],
      "execution_count": 28,
      "outputs": []
    },
    {
      "cell_type": "code",
      "metadata": {
        "id": "m1Y0s3_EzSTq"
      },
      "source": [
        "targ_enc = TargetEncoder()\n",
        "ord_enc = OrdinalEncoder()\n",
        "\n",
        "col_trans_lv2 = ColumnTransformer([('targ_enc', TargetEncoder(), nominal_feat_ix),\n",
        "                                   ('ord_enc', OrdinalEncoder(), ordinal_feat_ix)],\n",
        "                                  remainder='passthrough')"
      ],
      "execution_count": 29,
      "outputs": []
    },
    {
      "cell_type": "code",
      "metadata": {
        "id": "v6JpD6b_IIZX"
      },
      "source": [
        "pre_process_pipe = Pipeline([('col_trans_lvl1', col_trans_lv1),\n",
        "                             ('col_trans_lvl2', col_trans_lv2)])"
      ],
      "execution_count": 30,
      "outputs": []
    },
    {
      "cell_type": "markdown",
      "metadata": {
        "id": "9-JRZLP5wRLs"
      },
      "source": [
        "## **Model Building and Predictions**\n",
        "Approach : \n",
        "1. We will firt build a base model(logistic regression) and get a base accuracy from the model.\n",
        "2. Then we will build several complex models and judge them basing the base model.\n",
        "3. We will pick the most promising model and then fine tune its hyper-parameter."
      ]
    },
    {
      "cell_type": "markdown",
      "metadata": {
        "id": "bJHFYEORH1lg"
      },
      "source": [
        "### Base Model (Logistic Regression)"
      ]
    },
    {
      "cell_type": "code",
      "metadata": {
        "id": "-3KEtcdIH1lg"
      },
      "source": [
        "y_train = y_train.replace(['Y', 'N'], [1, 0])   # replacing Y=1 and N=0\n",
        "\n",
        "X_train_processed = pre_process_pipe.fit_transform(X_train, y_train)"
      ],
      "execution_count": 31,
      "outputs": []
    },
    {
      "cell_type": "code",
      "metadata": {
        "id": "8HLBuFgQyP2t",
        "outputId": "6c1c15b0-f650-46a9-98d5-d72eeb4eabc3",
        "colab": {
          "base_uri": "https://localhost:8080/",
          "height": 34
        }
      },
      "source": [
        "base_model = LogisticRegression()\n",
        "base_model.fit(X_train_processed, y_train)"
      ],
      "execution_count": 32,
      "outputs": [
        {
          "output_type": "execute_result",
          "data": {
            "text/plain": [
              "LogisticRegression()"
            ]
          },
          "metadata": {
            "tags": []
          },
          "execution_count": 32
        }
      ]
    },
    {
      "cell_type": "markdown",
      "metadata": {
        "id": "GjSzfHWCyvV7"
      },
      "source": [
        "Let’s predict the Loan_Status for validation set and calculate its accuracy."
      ]
    },
    {
      "cell_type": "code",
      "metadata": {
        "id": "eE9Xeh1YH1lp",
        "outputId": "954ca244-5504-4130-ab92-b0d8916ad2a2",
        "colab": {
          "base_uri": "https://localhost:8080/",
          "height": 69
        }
      },
      "source": [
        "train_prediction = base_model.predict(X_train_processed)\n",
        "\n",
        "base_accuracy_train = round(accuracy_score(y_train, train_prediction)*100, 2)\n",
        "base_accuracy_cv = round(np.mean(cross_val_score(base_model, X_train_processed,\n",
        "                                                 y_train, scoring='accuracy',\n",
        "                                                 cv=10, n_jobs=-1))*100, 2)\n",
        "print(':: Base Accuracy :: \\nTrain :: {0} \\nCV :: {1}'.format(base_accuracy_train,\n",
        "                                                              base_accuracy_cv))"
      ],
      "execution_count": 33,
      "outputs": [
        {
          "output_type": "stream",
          "text": [
            ":: Base Accuracy :: \n",
            "Train :: 69.04 \n",
            "CV :: 68.43\n"
          ],
          "name": "stdout"
        }
      ]
    },
    {
      "cell_type": "markdown",
      "metadata": {
        "id": "5A53Ht_uH1lu"
      },
      "source": [
        "**We will take these as our base accuracy now, that is our next model must give atleast this much accuracy.**"
      ]
    },
    {
      "cell_type": "markdown",
      "metadata": {
        "id": "j2WD4KbpH1lu"
      },
      "source": [
        "### Model Selection"
      ]
    },
    {
      "cell_type": "markdown",
      "metadata": {
        "id": "y7hpj5k_y_0X"
      },
      "source": [
        "We will build the following models using our processed dataset and check how it perform with base model.\n",
        "\n",
        "* Logistic Regression\n",
        "* Decision Tree\n",
        "* Random Forest\n",
        "* XGBoost\n",
        "* Multi-layer Perceptron\n",
        "* KNN\n",
        "* Naive-Bayes Classifier\n",
        "* SVM"
      ]
    },
    {
      "cell_type": "code",
      "metadata": {
        "id": "oiNvKvVCH1lx"
      },
      "source": [
        "dtc = DecisionTreeClassifier(random_state=42)\n",
        "rfc = RandomForestClassifier(random_state=42, n_jobs=-1)\n",
        "mlpc = MLPClassifier(random_state=42)\n",
        "knn = KNeighborsClassifier(n_jobs=-1)\n",
        "gnb = GaussianNB()\n",
        "svc = SVC(random_state=42)\n",
        "xgb = XGBClassifier(n_jobs=-1)\n",
        "\n",
        "classifiers = [dtc, rfc, mlpc, knn, gnb, svc, xgb]\n",
        "train_accuracies = dict()\n",
        "cv_accuracies = dict()"
      ],
      "execution_count": 34,
      "outputs": []
    },
    {
      "cell_type": "code",
      "metadata": {
        "id": "iteKzb2EH1l0"
      },
      "source": [
        "for clf in classifiers:\n",
        "    clf.fit(X_train_processed, y_train)\n",
        "    y_train_pred = clf.predict(X_train_processed)\n",
        "    train_accuracies[type(clf).__name__] = round(accuracy_score(y_train_pred,\n",
        "                                                                y_train)*100, 2)\n",
        "    cv_accuracies[type(clf).__name__] = round(np.mean(cross_val_score(clf,\n",
        "                                        X_train_processed, y_train,\n",
        "                                        scoring='accuracy',\n",
        "                                        cv=20, n_jobs=-1))*100, 2)"
      ],
      "execution_count": 35,
      "outputs": []
    },
    {
      "cell_type": "code",
      "metadata": {
        "id": "51KZlqqwH1l3",
        "outputId": "e0f8f952-832b-4fe7-9dfa-d524d40fa37a",
        "colab": {
          "base_uri": "https://localhost:8080/",
          "height": 112
        }
      },
      "source": [
        "pd.DataFrame([train_accuracies, cv_accuracies], index=['Train', 'CV'])"
      ],
      "execution_count": 36,
      "outputs": [
        {
          "output_type": "execute_result",
          "data": {
            "text/html": [
              "<div>\n",
              "<style scoped>\n",
              "    .dataframe tbody tr th:only-of-type {\n",
              "        vertical-align: middle;\n",
              "    }\n",
              "\n",
              "    .dataframe tbody tr th {\n",
              "        vertical-align: top;\n",
              "    }\n",
              "\n",
              "    .dataframe thead th {\n",
              "        text-align: right;\n",
              "    }\n",
              "</style>\n",
              "<table border=\"1\" class=\"dataframe\">\n",
              "  <thead>\n",
              "    <tr style=\"text-align: right;\">\n",
              "      <th></th>\n",
              "      <th>DecisionTreeClassifier</th>\n",
              "      <th>RandomForestClassifier</th>\n",
              "      <th>MLPClassifier</th>\n",
              "      <th>KNeighborsClassifier</th>\n",
              "      <th>GaussianNB</th>\n",
              "      <th>SVC</th>\n",
              "      <th>XGBClassifier</th>\n",
              "    </tr>\n",
              "  </thead>\n",
              "  <tbody>\n",
              "    <tr>\n",
              "      <th>Train</th>\n",
              "      <td>89.00</td>\n",
              "      <td>89.00</td>\n",
              "      <td>69.86</td>\n",
              "      <td>79.63</td>\n",
              "      <td>80.24</td>\n",
              "      <td>69.04</td>\n",
              "      <td>87.58</td>\n",
              "    </tr>\n",
              "    <tr>\n",
              "      <th>CV</th>\n",
              "      <td>67.77</td>\n",
              "      <td>75.16</td>\n",
              "      <td>65.38</td>\n",
              "      <td>72.91</td>\n",
              "      <td>79.85</td>\n",
              "      <td>68.65</td>\n",
              "      <td>73.75</td>\n",
              "    </tr>\n",
              "  </tbody>\n",
              "</table>\n",
              "</div>"
            ],
            "text/plain": [
              "       DecisionTreeClassifier  RandomForestClassifier  ...    SVC  XGBClassifier\n",
              "Train                   89.00                   89.00  ...  69.04          87.58\n",
              "CV                      67.77                   75.16  ...  68.65          73.75\n",
              "\n",
              "[2 rows x 7 columns]"
            ]
          },
          "metadata": {
            "tags": []
          },
          "execution_count": 36
        }
      ]
    },
    {
      "cell_type": "markdown",
      "metadata": {
        "id": "E1x1VZBuH1l7"
      },
      "source": [
        "### Model tuning (GaussainNB)"
      ]
    },
    {
      "cell_type": "markdown",
      "metadata": {
        "id": "k3T1pSPTH1l8"
      },
      "source": [
        "From the above DataFrame we can see that **Gaussian Naive-Bayes** gives the best performance out of all models on default parameters.\n",
        "Also a 11.42 % accuracy from the base model.\n",
        "\n",
        "> Decision Tree and XGBClassifier are having a better accuracy on training set but quite low on CV set, which indicates models are overfittin training data."
      ]
    },
    {
      "cell_type": "markdown",
      "metadata": {
        "id": "DbRJDTUF6fCQ"
      },
      "source": [
        "We will use GridSearchCV for hyper parameter tuning"
      ]
    },
    {
      "cell_type": "code",
      "metadata": {
        "id": "AJHhteGC6WZk",
        "outputId": "0c891637-e1a0-4f82-91b0-a2b136fdddfd",
        "colab": {
          "base_uri": "https://localhost:8080/",
          "height": 52
        }
      },
      "source": [
        "# GaussianNB have very few hyperparameter to tune.\n",
        "params = { 'var_smoothing': [1e-30, 1e-20, 1e-10, 1] }\n",
        "\n",
        "grdsrch_clf = GridSearchCV(gnb, params, cv=20)\n",
        "grdsrch_clf.fit(X_train_processed, y_train)"
      ],
      "execution_count": 37,
      "outputs": [
        {
          "output_type": "execute_result",
          "data": {
            "text/plain": [
              "GridSearchCV(cv=20, estimator=GaussianNB(),\n",
              "             param_grid={'var_smoothing': [1e-30, 1e-20, 1e-10, 1]})"
            ]
          },
          "metadata": {
            "tags": []
          },
          "execution_count": 37
        }
      ]
    },
    {
      "cell_type": "code",
      "metadata": {
        "id": "wdcoknVa67sc",
        "outputId": "fa1e8e86-61c5-48af-82cc-730dbe57b3a7",
        "colab": {
          "base_uri": "https://localhost:8080/",
          "height": 52
        }
      },
      "source": [
        "print(\"Best Score CV :: {0} \\n\"\n",
        "      \"Best Estimator :: {1}\".format(grdsrch_clf.best_score_,\n",
        "                                     grdsrch_clf.best_estimator_))"
      ],
      "execution_count": 38,
      "outputs": [
        {
          "output_type": "stream",
          "text": [
            "Best Score CV :: 0.7985 \n",
            "Best Estimator :: GaussianNB(var_smoothing=1e-30)\n"
          ],
          "name": "stdout"
        }
      ]
    },
    {
      "cell_type": "markdown",
      "metadata": {
        "id": "bjMyvKgh8CGv"
      },
      "source": [
        "## **Prediction**\n",
        "As, now we have our best estimator. Lets evaluate our model on test set."
      ]
    },
    {
      "cell_type": "code",
      "metadata": {
        "id": "AWbw5vzP9mWQ",
        "outputId": "600fc0ff-ed88-4c1c-ed58-e05d4742bf16",
        "colab": {
          "base_uri": "https://localhost:8080/",
          "height": 34
        }
      },
      "source": [
        "# First we have to pre-process the data\n",
        "X_test_processed = pre_process_pipe.transform(X_test)\n",
        "\n",
        "# As we trained on outcomes as [0,1] output values will be also in [0,1]\n",
        "y_test = y_test.replace(['Y', 'N'], [1, 0])\n",
        "\n",
        "y_pred_test = grdsrch_clf.predict(X_test_processed)\n",
        "test_accuracy = round(accuracy_score(y_test, y_pred_test), 2)\n",
        "print('Accuracy of our model :: ', test_accuracy)"
      ],
      "execution_count": 39,
      "outputs": [
        {
          "output_type": "stream",
          "text": [
            "Accuracy of our model ::  0.85\n"
          ],
          "name": "stdout"
        }
      ]
    },
    {
      "cell_type": "markdown",
      "metadata": {
        "id": "iddzWc6M9nHL"
      },
      "source": [
        "Thank You."
      ]
    }
  ]
}